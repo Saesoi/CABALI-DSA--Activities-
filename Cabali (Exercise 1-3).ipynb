{
 "cells": [
  {
   "cell_type": "code",
   "execution_count": 1,
   "id": "448d57c9-e607-48cb-965d-e4f27f40a1fc",
   "metadata": {},
   "outputs": [
    {
     "name": "stdin",
     "output_type": "stream",
     "text": [
      "Enter a temperature:  32\n",
      "Do you want to convert:\n",
      "A. Celsius to Fahrenheit\n",
      "B. Fahrenheit to Celsius\n",
      " B\n"
     ]
    },
    {
     "name": "stdout",
     "output_type": "stream",
     "text": [
      "32.0°F is equal to 0.00°C\n"
     ]
    }
   ],
   "source": [
    "def celsiusToFahrenheit(celsius):\n",
    "    return (celsius * 9/5) + 32\n",
    "\n",
    "def fahrenheitToCelsius(fahrenheit):\n",
    "    return (fahrenheit - 32) * 5/9\n",
    "\n",
    "def temperatureConverter():\n",
    "    temperature = float(input(\"Enter a temperature: \"))\n",
    "    conversion_type = input(\"Do you want to convert:\\nA. Celsius to Fahrenheit\\nB. Fahrenheit to Celsius\\n\")\n",
    "\n",
    "    if conversion_type == \"A\":\n",
    "        result = celsiusToFahrenheit(temperature)\n",
    "        print(f\"{temperature}°C is equal to {result:.2f}°F\")\n",
    "    elif conversion_type == \"B\":\n",
    "        result = fahrenheitToCelsius(temperature)\n",
    "        print(f\"{temperature}°F is equal to {result:.2f}°C\")\n",
    "    else:\n",
    "        print(\"Invalid selection. Please enter 1 or 2.\")\n",
    "\n",
    "temperatureConverter()"
   ]
  },
  {
   "cell_type": "code",
   "execution_count": 3,
   "id": "dcbb8f23-bbb4-4497-9ed7-c87871f628af",
   "metadata": {},
   "outputs": [
    {
     "name": "stdout",
     "output_type": "stream",
     "text": [
      "What do you want to calculate?\n",
      "1. Voltage (V)\n",
      "2. Current (I)\n",
      "3. Resistance (R)\n"
     ]
    },
    {
     "name": "stdin",
     "output_type": "stream",
     "text": [
      "Enter 1, 2, or 3:  2\n",
      "Enter the voltage (V) in volts:  24\n",
      "Enter the resistance (R) in ohms:  52\n"
     ]
    },
    {
     "name": "stdout",
     "output_type": "stream",
     "text": [
      "The current is 0.46153846153846156 amperes\n"
     ]
    }
   ],
   "source": [
    "def calculateVoltage(current, resistance):\n",
    "    return current * resistance\n",
    "\n",
    "def calculateCurrent(voltage, resistance):\n",
    "    return voltage / resistance\n",
    "\n",
    "def calculateResistance(voltage, current):\n",
    "    return voltage / current\n",
    "\n",
    "def ohmsLawCalculator():\n",
    "    print(\"What do you want to calculate?\")\n",
    "    print(\"1. Voltage (V)\")\n",
    "    print(\"2. Current (I)\")\n",
    "    print(\"3. Resistance (R)\")\n",
    "\n",
    "    choice = input(\"Enter 1, 2, or 3: \")\n",
    "\n",
    "    if choice == \"1\":\n",
    "        try:\n",
    "            current = float(input(\"Enter the current (I) in amperes: \"))\n",
    "            resistance = float(input(\"Enter the resistance (R) in ohms: \"))\n",
    "            voltage = calculateVoltage(current, resistance)\n",
    "            print(f\"The voltage is {voltage} volts\")\n",
    "        except ValueError:\n",
    "            print(\"Please enter valid numbers.\")\n",
    "    elif choice == \"2\":\n",
    "        try:\n",
    "            voltage = float(input(\"Enter the voltage (V) in volts: \"))\n",
    "            resistance = float(input(\"Enter the resistance (R) in ohms: \"))\n",
    "            if resistance == 0:\n",
    "                print(\"Resistance cannot be zero. Division by zero is not allowed.\")\n",
    "            else:\n",
    "                current = calculateCurrent(voltage, resistance)\n",
    "                print(f\"The current is {current} amperes\")\n",
    "        except ValueError:\n",
    "            print(\"Please enter valid numbers.\")\n",
    "    elif choice == \"3\":\n",
    "        try:\n",
    "            voltage = float(input(\"Enter the voltage (V) in volts: \"))\n",
    "            current = float(input(\"Enter the current (I) in amperes: \"))\n",
    "            if current == 0:\n",
    "                print(\"Current cannot be zero. Division by zero is not allowed.\")\n",
    "            else:\n",
    "                resistance = calculateResistance(voltage, current)\n",
    "                print(f\"The resistance is {resistance} ohms\")\n",
    "        except ValueError:\n",
    "            print(\"Please enter valid numbers.\")\n",
    "    else:\n",
    "        print(\"Invalid choice. Please enter 1, 2, or 3.\")\n",
    "\n",
    "ohmsLawCalculator()\n"
   ]
  },
  {
   "cell_type": "code",
   "execution_count": null,
   "id": "ec804ecc-c1d5-4b22-bc28-c58fde765e63",
   "metadata": {},
   "outputs": [],
   "source": [
    "def printDiamond(n):\n",
    "    if n % 2 == 0:\n",
    "        return \"Please enter an odd integer.\"\n",
    "\n",
    "    for i in range(n // 2 + 1):\n",
    "        print(' ' * (n // 2 - i) + '*' * (2 * i + 1))\n",
    "    \n",
    "    for i in range(n // 2 - 1, -1, -1):\n",
    "        print(' ' * (n // 2 - i) + '*' * (2 * i + 1))\n",
    "\n",
    "printDiamond(5)"
   ]
  }
 ],
 "metadata": {
  "kernelspec": {
   "display_name": "Python 3 (ipykernel)",
   "language": "python",
   "name": "python3"
  },
  "language_info": {
   "codemirror_mode": {
    "name": "ipython",
    "version": 3
   },
   "file_extension": ".py",
   "mimetype": "text/x-python",
   "name": "python",
   "nbconvert_exporter": "python",
   "pygments_lexer": "ipython3",
   "version": "3.12.2"
  }
 },
 "nbformat": 4,
 "nbformat_minor": 5
}
